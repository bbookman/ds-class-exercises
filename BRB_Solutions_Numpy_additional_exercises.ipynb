{
  "nbformat": 4,
  "nbformat_minor": 0,
  "metadata": {
    "colab": {
      "name": "BRB_Solutions_Numpy_additional_exercises.ipynb",
      "version": "0.3.2",
      "provenance": [],
      "collapsed_sections": [],
      "include_colab_link": true
    },
    "kernelspec": {
      "name": "python3",
      "display_name": "Python 3"
    }
  },
  "cells": [
    {
      "cell_type": "markdown",
      "metadata": {
        "id": "view-in-github",
        "colab_type": "text"
      },
      "source": [
        "<a href=\"https://colab.research.google.com/github/bbookman/ds-class-exercises/blob/master/BRB_Solutions_Numpy_additional_exercises.ipynb\" target=\"_parent\"><img src=\"https://colab.research.google.com/assets/colab-badge.svg\" alt=\"Open In Colab\"/></a>"
      ]
    },
    {
      "metadata": {
        "id": "EKodceet9k7D",
        "colab_type": "code",
        "colab": {
          "base_uri": "https://localhost:8080/",
          "height": 35
        },
        "outputId": "e6de0982-4a1f-47ea-e37a-1eabc5210837"
      },
      "cell_type": "code",
      "source": [
        "# Create a numpy array of size 10, filled with zeros.\n",
        "import numpy as np\n",
        "a = np.zeros(10, dtype=int)\n",
        "print(str(a))"
      ],
      "execution_count": 14,
      "outputs": [
        {
          "output_type": "stream",
          "text": [
            "[0 0 0 0 0 0 0 0 0 0]\n"
          ],
          "name": "stdout"
        }
      ]
    },
    {
      "metadata": {
        "id": "TnGgMg6b9wBr",
        "colab_type": "code",
        "colab": {
          "base_uri": "https://localhost:8080/",
          "height": 52
        },
        "outputId": "6f87a5fb-7a50-4570-dc59-7fee6f216443"
      },
      "cell_type": "code",
      "source": [
        "# Create a numpy array with values ranging from 10 to 49\n",
        "b = np.arange(10,50)\n",
        "print(b)"
      ],
      "execution_count": 7,
      "outputs": [
        {
          "output_type": "stream",
          "text": [
            "[10 11 12 13 14 15 16 17 18 19 20 21 22 23 24 25 26 27 28 29 30 31 32 33\n",
            " 34 35 36 37 38 39 40 41 42 43 44 45 46 47 48 49]\n"
          ],
          "name": "stdout"
        }
      ]
    },
    {
      "metadata": {
        "id": "qZXjB9ZlAqIW",
        "colab_type": "code",
        "colab": {
          "base_uri": "https://localhost:8080/",
          "height": 86
        },
        "outputId": "1679057d-c7ce-4c97-caf1-6658cc2c2ab2"
      },
      "cell_type": "code",
      "source": [
        "# Create a numpy matrix of 2*2 integers, filled with ones\n",
        "matrix = np.ndarray((2,2), dtype=int)\n",
        "matrix.fill(1)\n",
        "print(matrix)\n",
        "\n",
        "# OR\n",
        "m_ones = np.ones([2,2], dtype =int)\n",
        "print(m_ones)"
      ],
      "execution_count": 28,
      "outputs": [
        {
          "output_type": "stream",
          "text": [
            "[[1 1]\n",
            " [1 1]]\n",
            "[[1 1]\n",
            " [1 1]]\n"
          ],
          "name": "stdout"
        }
      ]
    },
    {
      "metadata": {
        "id": "vUIZLkRID_--",
        "colab_type": "code",
        "colab": {
          "base_uri": "https://localhost:8080/",
          "height": 121
        },
        "outputId": "c46a630e-960c-49c1-ff4f-414ee83ab923"
      },
      "cell_type": "code",
      "source": [
        "#  Create a numpy matrix of 3*2 float numbers, filled with one\n",
        "c = np.ndarray((3,2), dtype=float)\n",
        "c.fill(1)\n",
        "print(c)\n",
        "\n",
        "# OR\n",
        "d = np.ones([3,2], dtype=float)\n",
        "print(d)"
      ],
      "execution_count": 29,
      "outputs": [
        {
          "output_type": "stream",
          "text": [
            "[[1. 1.]\n",
            " [1. 1.]\n",
            " [1. 1.]]\n",
            "[[1. 1.]\n",
            " [1. 1.]\n",
            " [1. 1.]]\n"
          ],
          "name": "stdout"
        }
      ]
    },
    {
      "metadata": {
        "id": "f_8_mWdaEWVS",
        "colab_type": "code",
        "colab": {
          "base_uri": "https://localhost:8080/",
          "height": 86
        },
        "outputId": "38828597-b47d-416b-bcba-1afc4256cde7"
      },
      "cell_type": "code",
      "source": [
        "# Given the X numpy matrix, create a new numpy matrix with the same shape and type as X, filled with zeros\n",
        "X = np.array([[1,2,3], [4,5,6]], dtype=np.int)\n",
        "Y = np.zeros_like(X)\n",
        "print(X)\n",
        "print(Y)"
      ],
      "execution_count": 31,
      "outputs": [
        {
          "output_type": "stream",
          "text": [
            "[[1 2 3]\n",
            " [4 5 6]]\n",
            "[[0 0 0]\n",
            " [0 0 0]]\n"
          ],
          "name": "stdout"
        }
      ]
    },
    {
      "metadata": {
        "id": "2iaOq0gQHlmr",
        "colab_type": "code",
        "colab": {
          "base_uri": "https://localhost:8080/",
          "height": 86
        },
        "outputId": "8fa6bc0f-7557-4436-cb2f-d5cc927e19f1"
      },
      "cell_type": "code",
      "source": [
        "# Create a numpy matrix of 4*4 integers, filled with fives.\n",
        "fives = np.ndarray((4,4), dtype=int)\n",
        "fives.fill(5)\n",
        "print(fives)"
      ],
      "execution_count": 34,
      "outputs": [
        {
          "output_type": "stream",
          "text": [
            "[[5 5 5 5]\n",
            " [5 5 5 5]\n",
            " [5 5 5 5]\n",
            " [5 5 5 5]]\n"
          ],
          "name": "stdout"
        }
      ]
    },
    {
      "metadata": {
        "id": "V3Sp3tBTII-o",
        "colab_type": "code",
        "colab": {
          "base_uri": "https://localhost:8080/",
          "height": 86
        },
        "outputId": "2d7510d9-739b-4cac-fa14-1b0d454c925e"
      },
      "cell_type": "code",
      "source": [
        "# Given the X numpy matrix, create a new numpy matrix with the same shape and type as X, filled with sevens.\n",
        "XX = np.array([[2,3], [6,2]], dtype=np.int)\n",
        "YY = np.zeros_like(X)\n",
        "YY += 7\n",
        "print(XX)\n",
        "print(YY)\n"
      ],
      "execution_count": 35,
      "outputs": [
        {
          "output_type": "stream",
          "text": [
            "[[2 3]\n",
            " [6 2]]\n",
            "[[7 7 7]\n",
            " [7 7 7]]\n"
          ],
          "name": "stdout"
        }
      ]
    },
    {
      "metadata": {
        "id": "zO7RowRhIuWw",
        "colab_type": "code",
        "colab": {
          "base_uri": "https://localhost:8080/",
          "height": 69
        },
        "outputId": "49fd08ea-b45d-4472-9d34-ffc5eee5071e"
      },
      "cell_type": "code",
      "source": [
        "# Create a 3*3 identity numpy matrix with ones on the diagonal and zeros elsewhere\n",
        "## The identity array is a square array with ones on the main diagonal.\n",
        "ident = np.identity(3, dtype=int)\n",
        "print(ident)\n"
      ],
      "execution_count": 39,
      "outputs": [
        {
          "output_type": "stream",
          "text": [
            "[[1 0 0]\n",
            " [0 1 0]\n",
            " [0 0 1]]\n"
          ],
          "name": "stdout"
        }
      ]
    },
    {
      "metadata": {
        "id": "H-hNl46HJfRP",
        "colab_type": "code",
        "colab": {
          "base_uri": "https://localhost:8080/",
          "height": 35
        },
        "outputId": "b011505c-f959-4e81-e851-9651b836769d"
      },
      "cell_type": "code",
      "source": [
        "# Create a numpy array, filled with 3 random integer values between 1 and 10\n",
        "# numpy.random.randint(low, high=None, size=None, dtype='l')\n",
        "rands = np.random.randint(1,10,3, dtype=int)\n",
        "print(rands)"
      ],
      "execution_count": 42,
      "outputs": [
        {
          "output_type": "stream",
          "text": [
            "[7 9 9]\n"
          ],
          "name": "stdout"
        }
      ]
    },
    {
      "metadata": {
        "id": "TjlOUi3-KprC",
        "colab_type": "code",
        "colab": {
          "base_uri": "https://localhost:8080/",
          "height": 69
        },
        "outputId": "c3b85612-2345-4064-8be9-3fc2a0e652b6"
      },
      "cell_type": "code",
      "source": [
        "# Create a 3*3*3 numpy matrix, filled with random float values\n",
        "# random.random(size=None)\n",
        "threeby = np.random.random((3,3))\n",
        "print(threeby)"
      ],
      "execution_count": 43,
      "outputs": [
        {
          "output_type": "stream",
          "text": [
            "[[0.37630399 0.44441988 0.10532347]\n",
            " [0.60585998 0.30635866 0.885252  ]\n",
            " [0.8900079  0.04990342 0.57864609]]\n"
          ],
          "name": "stdout"
        }
      ]
    }
  ]
}